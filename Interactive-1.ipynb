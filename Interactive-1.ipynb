{
 "cells": [
  {
   "cell_type": "code",
   "execution_count": 28,
   "metadata": {},
   "outputs": [
    {
     "data": {
      "text/plain": [
       "[]"
      ]
     },
     "execution_count": 28,
     "metadata": {},
     "output_type": "execute_result"
    }
   ],
   "source": [
    "keys"
   ]
  },
  {
   "cell_type": "code",
   "execution_count": 29,
   "id": "48bd396d-4905-4aa2-9966-a1d2278cf9e3",
   "metadata": {},
   "outputs": [],
   "source": [
    "#-------------------------------------------------------------\n",
    "# ARGOSTrackingTool.py\n",
    "#\n",
    "# Description: Reads in an ARGOS tracking data file and allows\n",
    "#   the user to view the location of the turtle for a specified\n",
    "#   date entered via user input.\n",
    "#\n",
    "# Author: Aidan Power (aidan.power@duke.edu)\n",
    "# Date:   Fall 2024\n",
    "#--------------------------------------------------------------\n",
    "\n",
    "#Ask user for date\n",
    "user_date = '7/3/2003' #input(\"Enter a date: \")\n",
    "\n",
    "#Create a variable pointing to the data file\n",
    "file_name = './data/raw/Sara.txt'\n",
    "\n",
    "#Create a file object from the file\n",
    "file_object = open(file_name,'r')\n",
    "\n",
    "#Read contents of file into a list\n",
    "line_list = file_object.readlines()\n",
    "\n",
    "#Close the file\n",
    "file_object.close()\n",
    "\n",
    "#Initialize dictionaries\n",
    "date_dict = {}\n",
    "location_dict={}\n",
    "\n",
    "#Pretend we read one line of data from the file\n",
    "for lineString in line_list: \n",
    "    #Check if line is a data line\n",
    "    if lineString[0] in (\"#\",\"u\"):\n",
    "        continue\n",
    "       \n",
    "\n",
    "    #Split the string into a list of data items\n",
    "    lineData = lineString.split()\n",
    "\n",
    "    #Extract items in list into variables\n",
    "    record_id = lineData[0]\n",
    "    obs_date = lineData[2]\n",
    "    obs_lc = lineData[4]\n",
    "    obs_lat = lineData[6]\n",
    "    obs_lon = lineData[7]\n",
    "\n",
    "    #Determine if location class criteria is met\n",
    "    if obs_lc in (\"1\",\"2\",\"3\"):\n",
    "        #Add items to dictionaries\n",
    "        date_dict[record_id] = obs_date\n",
    "        location_dict[record_id] = (obs_lat,obs_lon)\n",
    " \n",
    "#Initialize key list\n",
    "keys = []\n",
    "\n",
    "#Loop through items in date_dict\n",
    "for key, value in date_dict.items():\n",
    "    if value == user_date: \n",
    "        keys.append(key)"
   ]
  },
  {
   "cell_type": "code",
   "execution_count": 30,
   "metadata": {},
   "outputs": [
    {
     "ename": "KeyError",
     "evalue": "20616",
     "output_type": "error",
     "traceback": [
      "\u001b[1;31m---------------------------------------------------------------------------\u001b[0m",
      "\u001b[1;31mKeyError\u001b[0m                                  Traceback (most recent call last)",
      "\u001b[1;32mv:\\TurtleTrackerPrep\\ARGOSTrackingTool.py\u001b[0m in \u001b[0;36m<cell line: 0>\u001b[1;34m()\u001b[0m\n\u001b[1;32m----> 1\u001b[1;33m \u001b[0mlocation\u001b[0m \u001b[1;33m=\u001b[0m \u001b[0mlocation_dict\u001b[0m\u001b[1;33m[\u001b[0m\u001b[1;36m20616\u001b[0m\u001b[1;33m]\u001b[0m\u001b[1;33m\u001b[0m\u001b[1;33m\u001b[0m\u001b[0m\n\u001b[0m",
      "\u001b[1;31mKeyError\u001b[0m: 20616"
     ]
    }
   ],
   "source": [
    "location = location_dict[20616]"
   ]
  },
  {
   "cell_type": "code",
   "execution_count": 31,
   "id": "dbb0c3ca-24d0-4795-a07f-4906b5c59ba1",
   "metadata": {},
   "outputs": [],
   "source": [
    "keys = []"
   ]
  },
  {
   "cell_type": "code",
   "execution_count": 32,
   "metadata": {},
   "outputs": [],
   "source": [
    "for key in keys:\n",
    "    location = location_dict[key]"
   ]
  },
  {
   "cell_type": "code",
   "execution_count": 33,
   "metadata": {},
   "outputs": [],
   "source": [
    "for key in keys:\n",
    "    location = location_dict[20616]"
   ]
  },
  {
   "cell_type": "code",
   "execution_count": 34,
   "metadata": {},
   "outputs": [
    {
     "data": {
      "text/plain": [
       "('33.898', '-77.958')"
      ]
     },
     "execution_count": 34,
     "metadata": {},
     "output_type": "execute_result"
    }
   ],
   "source": [
    "location_dict['20616']"
   ]
  },
  {
   "cell_type": "code",
   "execution_count": 35,
   "metadata": {},
   "outputs": [
    {
     "ename": "IndexError",
     "evalue": "list index out of range",
     "output_type": "error",
     "traceback": [
      "\u001b[1;31m---------------------------------------------------------------------------\u001b[0m",
      "\u001b[1;31mIndexError\u001b[0m                                Traceback (most recent call last)",
      "\u001b[1;32mv:\\TurtleTrackerPrep\\ARGOSTrackingTool.py\u001b[0m in \u001b[0;36m<cell line: 0>\u001b[1;34m()\u001b[0m\n\u001b[1;32m----> 1\u001b[1;33m \u001b[0mlocation_dict\u001b[0m\u001b[1;33m[\u001b[0m\u001b[0mkeys\u001b[0m\u001b[1;33m[\u001b[0m\u001b[1;36m0\u001b[0m\u001b[1;33m]\u001b[0m\u001b[1;33m]\u001b[0m\u001b[1;33m\u001b[0m\u001b[1;33m\u001b[0m\u001b[0m\n\u001b[0m",
      "\u001b[1;31mIndexError\u001b[0m: list index out of range"
     ]
    }
   ],
   "source": [
    "location_dict[keys[0]]"
   ]
  },
  {
   "cell_type": "code",
   "execution_count": 36,
   "id": "b4c1c20f-c0be-4ba4-bdd1-ed6301ec2019",
   "metadata": {},
   "outputs": [
    {
     "ename": "NameError",
     "evalue": "name 'lng' is not defined",
     "output_type": "error",
     "traceback": [
      "\u001b[1;31m---------------------------------------------------------------------------\u001b[0m",
      "\u001b[1;31mNameError\u001b[0m                                 Traceback (most recent call last)",
      "\u001b[1;32mv:\\TurtleTrackerPrep\\ARGOSTrackingTool.py\u001b[0m in \u001b[0;36m<cell line: 0>\u001b[1;34m()\u001b[0m\n\u001b[0;32m     65\u001b[0m     \u001b[0mlat\u001b[0m \u001b[1;33m=\u001b[0m \u001b[0mlocation\u001b[0m\u001b[1;33m[\u001b[0m\u001b[1;36m0\u001b[0m\u001b[1;33m]\u001b[0m\u001b[1;33m\u001b[0m\u001b[1;33m\u001b[0m\u001b[0m\n\u001b[0;32m     66\u001b[0m     \u001b[0mlong\u001b[0m \u001b[1;33m=\u001b[0m \u001b[0mlocation\u001b[0m\u001b[1;33m[\u001b[0m\u001b[1;36m1\u001b[0m\u001b[1;33m]\u001b[0m\u001b[1;33m\u001b[0m\u001b[1;33m\u001b[0m\u001b[0m\n\u001b[1;32m---> 67\u001b[1;33m     \u001b[0mprint\u001b[0m\u001b[1;33m(\u001b[0m\u001b[1;34mf\"On [user,date]), Sara the turtle was seen at {lat}d Lat, {lng}d Long.\"\u001b[0m\u001b[1;33m)\u001b[0m\u001b[1;33m\u001b[0m\u001b[1;33m\u001b[0m\u001b[0m\n\u001b[0m",
      "\u001b[1;31mNameError\u001b[0m: name 'lng' is not defined"
     ]
    }
   ],
   "source": [
    "#-------------------------------------------------------------\n",
    "# ARGOSTrackingTool.py\n",
    "#\n",
    "# Description: Reads in an ARGOS tracking data file and allows\n",
    "#   the user to view the location of the turtle for a specified\n",
    "#   date entered via user input.\n",
    "#\n",
    "# Author: Aidan Power (aidan.power@duke.edu)\n",
    "# Date:   Fall 2024\n",
    "#--------------------------------------------------------------\n",
    "\n",
    "#Ask user for date\n",
    "user_date = '7/3/2003' #input(\"Enter a date: \")\n",
    "\n",
    "#Create a variable pointing to the data file\n",
    "file_name = './data/raw/Sara.txt'\n",
    "\n",
    "#Create a file object from the file\n",
    "file_object = open(file_name,'r')\n",
    "\n",
    "#Read contents of file into a list\n",
    "line_list = file_object.readlines()\n",
    "\n",
    "#Close the file\n",
    "file_object.close()\n",
    "\n",
    "#Initialize dictionaries\n",
    "date_dict = {}\n",
    "location_dict={}\n",
    "\n",
    "#Pretend we read one line of data from the file\n",
    "for lineString in line_list: \n",
    "    #Check if line is a data line\n",
    "    if lineString[0] in (\"#\",\"u\"):\n",
    "        continue\n",
    "       \n",
    "\n",
    "    #Split the string into a list of data items\n",
    "    lineData = lineString.split()\n",
    "\n",
    "    #Extract items in list into variables\n",
    "    record_id = lineData[0]\n",
    "    obs_date = lineData[2]\n",
    "    obs_lc = lineData[4]\n",
    "    obs_lat = lineData[6]\n",
    "    obs_lon = lineData[7]\n",
    "\n",
    "    #Determine if location class criteria is met\n",
    "    if obs_lc in (\"1\",\"2\",\"3\"):\n",
    "        #Add items to dictionaries\n",
    "        date_dict[record_id] = obs_date\n",
    "        location_dict[record_id] = (obs_lat,obs_lon)\n",
    " \n",
    "#Initialize key list\n",
    "keys = []\n",
    "\n",
    "#Loop through items in date_dict\n",
    "for key, value in date_dict.items():\n",
    "    if value == user_date: \n",
    "        keys.append(key)\n",
    "\n",
    "#Loop through keys and report locations\n",
    "for key in keys:\n",
    "    location = location_dict[key]\n",
    "    lat = location[0]\n",
    "    long = location[1]\n",
    "    print(f\"On [user,date]), Sara the turtle was seen at {lat}d Lat, {lng}d Long.\")"
   ]
  },
  {
   "cell_type": "code",
   "execution_count": 37,
   "metadata": {},
   "outputs": [],
   "source": [
    "for key in keys:\n",
    "    location = location_dict[key] \n",
    "\n"
   ]
  },
  {
   "cell_type": "code",
   "execution_count": 38,
   "metadata": {},
   "outputs": [
    {
     "ename": "NameError",
     "evalue": "name 'lng' is not defined",
     "output_type": "error",
     "traceback": [
      "\u001b[1;31m---------------------------------------------------------------------------\u001b[0m",
      "\u001b[1;31mNameError\u001b[0m                                 Traceback (most recent call last)",
      "\u001b[1;32mv:\\TurtleTrackerPrep\\ARGOSTrackingTool.py\u001b[0m in \u001b[0;36m<cell line: 0>\u001b[1;34m()\u001b[0m\n\u001b[0;32m      3\u001b[0m     \u001b[0mlat\u001b[0m \u001b[1;33m=\u001b[0m \u001b[0mlocation\u001b[0m\u001b[1;33m[\u001b[0m\u001b[1;36m0\u001b[0m\u001b[1;33m]\u001b[0m\u001b[1;33m\u001b[0m\u001b[1;33m\u001b[0m\u001b[0m\n\u001b[0;32m      4\u001b[0m     \u001b[0mlong\u001b[0m \u001b[1;33m=\u001b[0m \u001b[0mlocation\u001b[0m\u001b[1;33m[\u001b[0m\u001b[1;36m1\u001b[0m\u001b[1;33m]\u001b[0m\u001b[1;33m\u001b[0m\u001b[1;33m\u001b[0m\u001b[0m\n\u001b[1;32m----> 5\u001b[1;33m     \u001b[0mprint\u001b[0m\u001b[1;33m(\u001b[0m\u001b[1;34mf\"On [user,date]), Sara the turtle was seen at {lat}d Lat, {lng}d Long.\"\u001b[0m\u001b[1;33m)\u001b[0m\u001b[1;33m\u001b[0m\u001b[1;33m\u001b[0m\u001b[0m\n\u001b[0m",
      "\u001b[1;31mNameError\u001b[0m: name 'lng' is not defined"
     ]
    }
   ],
   "source": [
    "for key in keys:\n",
    "    location = location_dict[key]\n",
    "    lat = location[0]\n",
    "    long = location[1]\n",
    "    print(f\"On [user,date]), Sara the turtle was seen at {lat}d Lat, {lng}d Long.\")"
   ]
  }
 ],
 "metadata": {
  "kernelspec": {
   "display_name": "Python 3",
   "language": "python",
   "name": "python3"
  },
  "language_info": {
   "codemirror_mode": {
    "name": "ipython",
    "version": 3
   },
   "file_extension": ".py",
   "mimetype": "text/x-python",
   "name": "python",
   "nbconvert_exporter": "python",
   "pygments_lexer": "ipython3",
   "version": "3.11.8"
  }
 },
 "nbformat": 4,
 "nbformat_minor": 2
}
